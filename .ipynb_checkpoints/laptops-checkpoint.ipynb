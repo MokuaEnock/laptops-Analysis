{
 "cells": [
  {
   "cell_type": "code",
   "execution_count": 8,
   "id": "64ad1d7d",
   "metadata": {},
   "outputs": [],
   "source": [
    "#modules\n",
    "from bs4 import BeautifulSoup as bs\n",
    "import pandas as pd\n",
    "import requests"
   ]
  },
  {
   "cell_type": "code",
   "execution_count": 9,
   "id": "e885f74f",
   "metadata": {},
   "outputs": [],
   "source": [
    "#requesting\n",
    "url = \"https://www.newegg.com/Laptops-Notebooks/SubCategory/ID-32?Tid=6740\"\n",
    "response = requests.get(url)\n",
    "\n",
    "#save to a file\n",
    "with open(\"laptops.html\", mode=\"wb\") as file:\n",
    "    file.write(response.content)"
   ]
  },
  {
   "cell_type": "code",
   "execution_count": 13,
   "id": "a9447b8d",
   "metadata": {},
   "outputs": [],
   "source": [
    "#creating soup\n",
    "soup = bs(response.content, \"lxml\")"
   ]
  },
  {
   "cell_type": "code",
   "execution_count": 22,
   "id": "8c3bdfad",
   "metadata": {
    "scrolled": false
   },
   "outputs": [
    {
     "data": {
      "text/plain": [
       "36"
      ]
     },
     "execution_count": 22,
     "metadata": {},
     "output_type": "execute_result"
    }
   ],
   "source": [
    "len(soup.findAll(\"div\", class_=\"item-cell\"))"
   ]
  },
  {
   "cell_type": "code",
   "execution_count": null,
   "id": "7f6d7bdc",
   "metadata": {},
   "outputs": [],
   "source": [
    "url = \"https://www.newegg.com/Laptops-Notebooks/SubCategory/ID-32/Page-2?Tid=6740\""
   ]
  }
 ],
 "metadata": {
  "kernelspec": {
   "display_name": "Python 3 (ipykernel)",
   "language": "python",
   "name": "python3"
  },
  "language_info": {
   "codemirror_mode": {
    "name": "ipython",
    "version": 3
   },
   "file_extension": ".py",
   "mimetype": "text/x-python",
   "name": "python",
   "nbconvert_exporter": "python",
   "pygments_lexer": "ipython3",
   "version": "3.10.6"
  }
 },
 "nbformat": 4,
 "nbformat_minor": 5
}
