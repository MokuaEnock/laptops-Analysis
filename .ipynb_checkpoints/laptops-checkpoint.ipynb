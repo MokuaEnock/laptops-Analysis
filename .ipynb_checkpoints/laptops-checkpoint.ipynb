{
 "cells": [
  {
   "cell_type": "code",
   "execution_count": 118,
   "id": "617fe201",
   "metadata": {},
   "outputs": [
    {
     "name": "stdout",
     "output_type": "stream",
     "text": [
      "Defaulting to user installation because normal site-packages is not writeable\n",
      "Collecting tdqm\n",
      "  Downloading tdqm-0.0.1.tar.gz (1.4 kB)\n",
      "  Preparing metadata (setup.py) ... \u001b[?25ldone\n",
      "\u001b[?25hRequirement already satisfied: tqdm in /home/moringa/.local/lib/python3.10/site-packages (from tdqm) (4.64.1)\n",
      "Building wheels for collected packages: tdqm\n",
      "  Building wheel for tdqm (setup.py) ... \u001b[?25ldone\n",
      "\u001b[?25h  Created wheel for tdqm: filename=tdqm-0.0.1-py3-none-any.whl size=1319 sha256=b8523afa1ee61b0b9e945154c43c568d985ae0fca3a3aa480f55f9b177b71c2c\n",
      "  Stored in directory: /home/moringa/.cache/pip/wheels/37/31/b8/7b711038035720ba0df14376af06e5e76b9bd61759c861ad92\n",
      "Successfully built tdqm\n",
      "Installing collected packages: tdqm\n",
      "Successfully installed tdqm-0.0.1\n",
      "Note: you may need to restart the kernel to use updated packages.\n"
     ]
    }
   ],
   "source": [
    "pip install tdqm"
   ]
  },
  {
   "cell_type": "code",
   "execution_count": 122,
   "id": "fe68239d",
   "metadata": {},
   "outputs": [],
   "source": [
    "#modules\n",
    "from bs4 import BeautifulSoup as bs\n",
    "import pandas as pd\n",
    "import requests\n",
    "import unicodedata\n",
    "from tqdm import tqdm\n",
    "import time"
   ]
  },
  {
   "cell_type": "code",
   "execution_count": 2,
   "id": "d925fac1",
   "metadata": {},
   "outputs": [],
   "source": [
    "#requesting\n",
    "url = \"https://www.newegg.com/Laptops-Notebooks/SubCategory/ID-32?Tid=6740\"\n",
    "response = requests.get(url)\n",
    "\n",
    "#save to a file\n",
    "with open(\"laptops.html\", mode=\"wb\") as file:\n",
    "    file.write(response.content)"
   ]
  },
  {
   "cell_type": "code",
   "execution_count": 3,
   "id": "bd5bb7b3",
   "metadata": {},
   "outputs": [],
   "source": [
    "#creating soup\n",
    "soup = bs(response.content, \"lxml\")"
   ]
  },
  {
   "cell_type": "code",
   "execution_count": 4,
   "id": "924cabd2",
   "metadata": {
    "scrolled": false
   },
   "outputs": [
    {
     "data": {
      "text/plain": [
       "36"
      ]
     },
     "execution_count": 4,
     "metadata": {},
     "output_type": "execute_result"
    }
   ],
   "source": [
    "len(soup.findAll(\"div\", class_=\"item-cell\"))"
   ]
  },
  {
   "cell_type": "code",
   "execution_count": 5,
   "id": "d8ef5257",
   "metadata": {
    "scrolled": true
   },
   "outputs": [],
   "source": [
    "url = \"https://www.newegg.com/Laptops-Notebooks/SubCategory/ID-32/Page-{2}?Tid=6740\"\n",
    "all_divs = []\n",
    "arr = []\n",
    "\n",
    "#creating for loop to get the data\n",
    "for i in range(1, 101):\n",
    "    x =f\"https://www.newegg.com/Laptops-Notebooks/SubCategory/ID-32/Page-{i}?Tid=6740\"\n",
    "    response = requests.get(url)\n",
    "    soup = bs(response.content, \"lxml\")  \n",
    "    div = soup.findAll(\"div\", class_=\"item-cell\")\n",
    "    for i in div:\n",
    "        arr.append(i)"
   ]
  },
  {
   "cell_type": "code",
   "execution_count": 146,
   "id": "2d0a0aa2",
   "metadata": {
    "scrolled": false
   },
   "outputs": [
    {
     "name": "stdout",
     "output_type": "stream",
     "text": [
      "Lowest price\n",
      "{'Type': ' Home / Personal', 'Resolution': ' 1920 x 1080', 'Weight': ' 3.88 lbs.', 'Graphics Card': ' Intel Iris Xe Graphics', 'Model #': ' NX.K3KAA.006', 'Item #': ' N82E16834360185', 'Return Policy': ' Extended Holiday Return Policy'}\n"
     ]
    }
   ],
   "source": [
    "s = arr[0]\n",
    "print(s.find(\"a\", class_=\"flags-body\").text)\n",
    "\n",
    "g = s.findAll(\"li\")\n",
    "k= {}\n",
    "for i in g:\n",
    "    y = i.text.rsplit(\":\")\n",
    "    if len(y)>1:\n",
    "        m = y[0]\n",
    "        n = y[1]\n",
    "        k[y[0]]=y[1]\n",
    "print(k)\n"
   ]
  },
  {
   "cell_type": "code",
   "execution_count": null,
   "id": "c041d032",
   "metadata": {
    "scrolled": true
   },
   "outputs": [],
   "source": [
    "t = ['Type', ' Home / Personal']\n",
    "l = {t[0]: t[1]}\n",
    "l\n"
   ]
  },
  {
   "cell_type": "code",
   "execution_count": 133,
   "id": "6f95f1dc",
   "metadata": {},
   "outputs": [],
   "source": [
    "# clean list of features\n",
    "def extractList(g):\n",
    "    k= {}\n",
    "    for i in g:\n",
    "        y = i.text.rsplit(\":\")\n",
    "        if len(y)>1:\n",
    "            m = y[0]\n",
    "            n = y[1]\n",
    "            k[y[0]]=y[1]\n",
    "    return k\n",
    "\n",
    "# clean price\n",
    "def priceCurrent(k):\n",
    "    l =unicodedata.normalize(\"NFKD\",k.rsplit(\"$\")[1])\n",
    "    return l.rsplit(\" \")[0]\n",
    "\n",
    "#check for nonetype\n",
    "def isNone(g):\n",
    "    if g is None:\n",
    "        return \"None\"\n",
    "    else:\n",
    "        return g.text\n",
    "g = None"
   ]
  },
  {
   "cell_type": "code",
   "execution_count": 151,
   "id": "51014e32",
   "metadata": {},
   "outputs": [
    {
     "data": {
      "text/plain": [
       "'Lowest price'"
      ]
     },
     "execution_count": 151,
     "metadata": {},
     "output_type": "execute_result"
    }
   ],
   "source": [
    "flags_body = s.find(\"div\", class_=\"flags flags-right flags-red is-invert\")\n",
    "isNone(flags_body)\n",
    "# hello = {\n",
    "#     \"flags-body\": isNone(flags_body),\n",
    "#     \"item-title\": isNone(s.find(\"a\", class_=\"item-title\").text),\n",
    "#     \"item-promo\": isNone(s.find(\"p\", class_=\"item-promo\").text),\n",
    "#     \"item-features\": extractList(s.find(\"ul\", class_=\"item-features\")),\n",
    "#     \"item-price\": priceCurrent(s.find(\"li\", class_=\"price-current\").text),\n",
    "#     \"price-ship\": isNone(s.find(\"li\", class_=\"price-ship\").text),\n",
    "#     \"price-offers\": isNone(s.find(\"a\", class_=\"price-current-num\").text),\n",
    "# }\n",
    "\n",
    "# hello\n",
    "isNone(flags_body.text)\n"
   ]
  },
  {
   "cell_type": "code",
   "execution_count": 152,
   "id": "a44f4450",
   "metadata": {
    "collapsed": true
   },
   "outputs": [
    {
     "ename": "AttributeError",
     "evalue": "'NoneType' object has no attribute 'text'",
     "output_type": "error",
     "traceback": [
      "\u001b[0;31m---------------------------------------------------------------------------\u001b[0m",
      "\u001b[0;31mAttributeError\u001b[0m                            Traceback (most recent call last)",
      "\u001b[0;32m/tmp/ipykernel_689803/2649076321.py\u001b[0m in \u001b[0;36m<module>\u001b[0;34m\u001b[0m\n\u001b[1;32m      9\u001b[0m     \u001b[0;34m\"flags-body\"\u001b[0m\u001b[0;34m:\u001b[0m \u001b[0misNone\u001b[0m\u001b[0;34m(\u001b[0m\u001b[0mflags_body\u001b[0m\u001b[0;34m)\u001b[0m\u001b[0;34m,\u001b[0m\u001b[0;34m\u001b[0m\u001b[0;34m\u001b[0m\u001b[0m\n\u001b[1;32m     10\u001b[0m     \u001b[0;34m\"item-title\"\u001b[0m\u001b[0;34m:\u001b[0m \u001b[0misNone\u001b[0m\u001b[0;34m(\u001b[0m\u001b[0mi\u001b[0m\u001b[0;34m.\u001b[0m\u001b[0mfind\u001b[0m\u001b[0;34m(\u001b[0m\u001b[0;34m\"a\"\u001b[0m\u001b[0;34m,\u001b[0m \u001b[0mclass_\u001b[0m\u001b[0;34m=\u001b[0m\u001b[0;34m\"item-title\"\u001b[0m\u001b[0;34m)\u001b[0m\u001b[0;34m.\u001b[0m\u001b[0mtext\u001b[0m\u001b[0;34m)\u001b[0m\u001b[0;34m,\u001b[0m\u001b[0;34m\u001b[0m\u001b[0;34m\u001b[0m\u001b[0m\n\u001b[0;32m---> 11\u001b[0;31m     \u001b[0;34m\"item-promo\"\u001b[0m\u001b[0;34m:\u001b[0m \u001b[0misNone\u001b[0m\u001b[0;34m(\u001b[0m\u001b[0mi\u001b[0m\u001b[0;34m.\u001b[0m\u001b[0mfind\u001b[0m\u001b[0;34m(\u001b[0m\u001b[0;34m\"p\"\u001b[0m\u001b[0;34m,\u001b[0m \u001b[0mclass_\u001b[0m\u001b[0;34m=\u001b[0m\u001b[0;34m\"item-promo\"\u001b[0m\u001b[0;34m)\u001b[0m\u001b[0;34m.\u001b[0m\u001b[0mtext\u001b[0m\u001b[0;34m)\u001b[0m\u001b[0;34m,\u001b[0m\u001b[0;34m\u001b[0m\u001b[0;34m\u001b[0m\u001b[0m\n\u001b[0m\u001b[1;32m     12\u001b[0m     \u001b[0;34m\"item-features\"\u001b[0m\u001b[0;34m:\u001b[0m \u001b[0mextractList\u001b[0m\u001b[0;34m(\u001b[0m\u001b[0mi\u001b[0m\u001b[0;34m.\u001b[0m\u001b[0mfind\u001b[0m\u001b[0;34m(\u001b[0m\u001b[0;34m\"ul\"\u001b[0m\u001b[0;34m,\u001b[0m \u001b[0mclass_\u001b[0m\u001b[0;34m=\u001b[0m\u001b[0;34m\"item-features\"\u001b[0m\u001b[0;34m)\u001b[0m\u001b[0;34m)\u001b[0m\u001b[0;34m,\u001b[0m\u001b[0;34m\u001b[0m\u001b[0;34m\u001b[0m\u001b[0m\n\u001b[1;32m     13\u001b[0m     \u001b[0;34m\"item-price\"\u001b[0m\u001b[0;34m:\u001b[0m \u001b[0mpriceCurrent\u001b[0m\u001b[0;34m(\u001b[0m\u001b[0mi\u001b[0m\u001b[0;34m.\u001b[0m\u001b[0mfind\u001b[0m\u001b[0;34m(\u001b[0m\u001b[0;34m\"li\"\u001b[0m\u001b[0;34m,\u001b[0m \u001b[0mclass_\u001b[0m\u001b[0;34m=\u001b[0m\u001b[0;34m\"price-current\"\u001b[0m\u001b[0;34m)\u001b[0m\u001b[0;34m.\u001b[0m\u001b[0mtext\u001b[0m\u001b[0;34m)\u001b[0m\u001b[0;34m,\u001b[0m\u001b[0;34m\u001b[0m\u001b[0;34m\u001b[0m\u001b[0m\n",
      "\u001b[0;31mAttributeError\u001b[0m: 'NoneType' object has no attribute 'text'"
     ]
    }
   ],
   "source": [
    "arr_data  = []\n",
    "for i in arr:\n",
    "    flags_body = i.find(\"div\", class_=\"flags flags-right flags-red is-invert\")\n",
    "    item_title = i.find(\"a\", class_=\"item-title\")\n",
    "    flags_body = i.find(\"div\", class_=\"flags flags-right flags-red is-invert\")\n",
    "    flags_body = i.find(\"div\", class_=\"flags flags-right flags-red is-invert\")\n",
    "    \n",
    "    hello = {\n",
    "    \"flags-body\": isNone(flags_body),\n",
    "    \"item-title\": isNone(ite,_title),\n",
    "    \"item-promo\": isNone(i.find(\"p\", class_=\"item-promo\").text),\n",
    "    \"item-features\": extractList(i.find(\"ul\", class_=\"item-features\")),\n",
    "    \"item-price\": priceCurrent(i.find(\"li\", class_=\"price-current\").text),\n",
    "    \"price-ship\": isNone(i.find(\"li\", class_=\"price-ship\").text),\n",
    "    \"price-offers\": isNone(i.find(\"a\", class_=\"price-current-num\").text),\n",
    "    }\n",
    "    arr_data.append(hello)\n",
    "    "
   ]
  },
  {
   "cell_type": "code",
   "execution_count": null,
   "id": "86d34017",
   "metadata": {},
   "outputs": [],
   "source": []
  }
 ],
 "metadata": {
  "kernelspec": {
   "display_name": "Python 3 (ipykernel)",
   "language": "python",
   "name": "python3"
  },
  "language_info": {
   "codemirror_mode": {
    "name": "ipython",
    "version": 3
   },
   "file_extension": ".py",
   "mimetype": "text/x-python",
   "name": "python",
   "nbconvert_exporter": "python",
   "pygments_lexer": "ipython3",
   "version": "3.10.6"
  }
 },
 "nbformat": 4,
 "nbformat_minor": 5
}
