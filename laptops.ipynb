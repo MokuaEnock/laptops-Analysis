{
 "cells": [
  {
   "cell_type": "code",
   "execution_count": 1,
   "id": "fe68239d",
   "metadata": {},
   "outputs": [],
   "source": [
    "#modules\n",
    "from bs4 import BeautifulSoup as bs\n",
    "import pandas as pd\n",
    "import requests"
   ]
  },
  {
   "cell_type": "code",
   "execution_count": 2,
   "id": "d925fac1",
   "metadata": {},
   "outputs": [],
   "source": [
    "#requesting\n",
    "url = \"https://www.newegg.com/Laptops-Notebooks/SubCategory/ID-32?Tid=6740\"\n",
    "response = requests.get(url)\n",
    "\n",
    "#save to a file\n",
    "with open(\"laptops.html\", mode=\"wb\") as file:\n",
    "    file.write(response.content)"
   ]
  },
  {
   "cell_type": "code",
   "execution_count": 3,
   "id": "bd5bb7b3",
   "metadata": {},
   "outputs": [],
   "source": [
    "#creating soup\n",
    "soup = bs(response.content, \"lxml\")"
   ]
  },
  {
   "cell_type": "code",
   "execution_count": 4,
   "id": "924cabd2",
   "metadata": {
    "scrolled": false
   },
   "outputs": [
    {
     "data": {
      "text/plain": [
       "36"
      ]
     },
     "execution_count": 4,
     "metadata": {},
     "output_type": "execute_result"
    }
   ],
   "source": [
    "len(soup.findAll(\"div\", class_=\"item-cell\"))"
   ]
  },
  {
   "cell_type": "code",
   "execution_count": 5,
   "id": "d8ef5257",
   "metadata": {
    "scrolled": true
   },
   "outputs": [],
   "source": [
    "url = \"https://www.newegg.com/Laptops-Notebooks/SubCategory/ID-32/Page-{2}?Tid=6740\"\n",
    "all_divs = []\n",
    "arr = []\n",
    "\n",
    "#creating for loop to get the data\n",
    "for i in range(1, 101):\n",
    "    x =f\"https://www.newegg.com/Laptops-Notebooks/SubCategory/ID-32/Page-{i}?Tid=6740\"\n",
    "    response = requests.get(url)\n",
    "    soup = bs(response.content, \"lxml\")  \n",
    "    div = soup.findAll(\"div\", class_=\"item-cell\")\n",
    "    for i in div:\n",
    "        arr.append(i)"
   ]
  },
  {
   "cell_type": "code",
   "execution_count": 6,
   "id": "d8f1d427",
   "metadata": {
    "scrolled": true
   },
   "outputs": [
    {
     "name": "stdout",
     "output_type": "stream",
     "text": [
      "3600\n"
     ]
    }
   ],
   "source": [
    "print(len(arr))"
   ]
  },
  {
   "cell_type": "code",
   "execution_count": 9,
   "id": "258b27e2",
   "metadata": {},
   "outputs": [],
   "source": [
    "import numpy as np"
   ]
  },
  {
   "cell_type": "code",
   "execution_count": 15,
   "id": "b2cdc3f1",
   "metadata": {},
   "outputs": [
    {
     "name": "stderr",
     "output_type": "stream",
     "text": [
      "/tmp/ipykernel_689803/3326374466.py:1: VisibleDeprecationWarning: Creating an ndarray from ragged nested sequences (which is a list-or-tuple of lists-or-tuples-or ndarrays with different lengths or shapes) is deprecated. If you meant to do this, you must specify 'dtype=object' when creating the ndarray.\n",
      "  df = pd.DataFrame(np.array(arr).reshape(1, 3600), columns=list(\"cont\"))\n"
     ]
    },
    {
     "ename": "ValueError",
     "evalue": "cannot reshape array of size 14400 into shape (1,3600)",
     "output_type": "error",
     "traceback": [
      "\u001b[0;31m---------------------------------------------------------------------------\u001b[0m",
      "\u001b[0;31mValueError\u001b[0m                                Traceback (most recent call last)",
      "\u001b[0;32m/tmp/ipykernel_689803/3326374466.py\u001b[0m in \u001b[0;36m<module>\u001b[0;34m\u001b[0m\n\u001b[0;32m----> 1\u001b[0;31m \u001b[0mdf\u001b[0m \u001b[0;34m=\u001b[0m \u001b[0mpd\u001b[0m\u001b[0;34m.\u001b[0m\u001b[0mDataFrame\u001b[0m\u001b[0;34m(\u001b[0m\u001b[0mnp\u001b[0m\u001b[0;34m.\u001b[0m\u001b[0marray\u001b[0m\u001b[0;34m(\u001b[0m\u001b[0marr\u001b[0m\u001b[0;34m)\u001b[0m\u001b[0;34m.\u001b[0m\u001b[0mreshape\u001b[0m\u001b[0;34m(\u001b[0m\u001b[0;36m1\u001b[0m\u001b[0;34m,\u001b[0m \u001b[0;36m3600\u001b[0m\u001b[0;34m)\u001b[0m\u001b[0;34m,\u001b[0m \u001b[0mcolumns\u001b[0m\u001b[0;34m=\u001b[0m\u001b[0mlist\u001b[0m\u001b[0;34m(\u001b[0m\u001b[0;34m\"cont\"\u001b[0m\u001b[0;34m)\u001b[0m\u001b[0;34m)\u001b[0m\u001b[0;34m\u001b[0m\u001b[0;34m\u001b[0m\u001b[0m\n\u001b[0m",
      "\u001b[0;31mValueError\u001b[0m: cannot reshape array of size 14400 into shape (1,3600)"
     ]
    }
   ],
   "source": [
    "df = pd.DataFrame(np.array(arr).reshape(1, 3600), columns=list(\"cont\"))"
   ]
  },
  {
   "cell_type": "code",
   "execution_count": 16,
   "id": "ffae3210",
   "metadata": {},
   "outputs": [
    {
     "name": "stderr",
     "output_type": "stream",
     "text": [
      "/tmp/ipykernel_689803/3131248200.py:1: VisibleDeprecationWarning: Creating an ndarray from ragged nested sequences (which is a list-or-tuple of lists-or-tuples-or ndarrays with different lengths or shapes) is deprecated. If you meant to do this, you must specify 'dtype=object' when creating the ndarray.\n",
      "  arr1 = np.array(arr)\n"
     ]
    }
   ],
   "source": [
    "arr1 = np.array(arr)"
   ]
  },
  {
   "cell_type": "code",
   "execution_count": 17,
   "id": "4dd126e2",
   "metadata": {
    "scrolled": false
   },
   "outputs": [
    {
     "data": {
      "text/plain": [
       "array([[[<a class=\"item-img\" href=\"https://www.newegg.com/steel-gray-acer-aspire-5-a515-57-731e-home-personal/p/N82E16834360185\"><img alt='Acer Laptop Aspire 5 Intel Core i7 12th Gen 1255U (1.70GHz) 16GB Memory 512 GB NVMe SSD Intel Iris Xe Graphics 15.6\" Windows 11 Home 64-bit A515-57-731E' src=\"https://c1.neweggimages.com/ProductImageCompressAll300/34-360-185-01.jpg\" title='Acer Laptop Aspire 5 Intel Core i7 12th Gen 1255U (1.70GHz) 16GB Memory 512 GB NVMe SSD Intel Iris Xe Graphics 15.6\" Windows 11 Home 64-bit A515-57-731E'/><div class=\"btn btn-large btn-quickview\">Quick View</div></a>,\n",
       "         <div class=\"item-info\"><div class=\"item-msg is-best-price\"><div class=\"flags flags-right flags-red is-invert\"><a class=\"flags-body\" href=\"https://www.newegg.com/d/Lowest-Price-In-30-Days/Laptops-Notebooks/s/ID-32\" title=\"Laptops / Notebooks\">Lowest price</a></div>in <strong>30 days</strong></div><div class=\"item-branding\"><a class=\"item-brand\" href=\"https://www.newegg.com/Acer-America/BrandStore/ID-1146\"><img alt=\"Acer America\" src=\"https://c1.neweggimages.com/Brandimage_70x28/Brand1146.gif\" title=\"Acer America\"/></a></div><a class=\"item-title\" href=\"https://www.newegg.com/steel-gray-acer-aspire-5-a515-57-731e-home-personal/p/N82E16834360185\" title=\"View Details\">Acer Laptop Aspire 5 Intel Core i7 12th Gen 1255U (1.70GHz) 16GB Memory 512 GB NVMe SSD Intel Iris Xe Graphics 15.6\" Windows 11 Home 64-bit A515-57-731E</a><p class=\"item-promo\"><i class=\"item-promo-icon\"></i>Eligible for Black Friday Price Protection, See Details</p><ul class=\"item-features\"><li><strong>Type:</strong> Home / Personal</li><li><strong>Resolution:</strong> 1920 x 1080</li><li><strong>Weight:</strong> 3.88 lbs.</li><li><strong>Graphics Card:</strong> Intel Iris Xe Graphics</li><li><strong>Model #: </strong>NX.K3KAA.006</li><li><strong>Item #: </strong>N82E16834360185</li><li><strong>Return Policy: </strong><a href=\"https://kb.newegg.com/Article/Index/12/3?id=1167#53\" target=\"_blank\" title=\"Extended Holiday Return Policy(New Window)\">Extended Holiday Return Policy</a></li></ul></div>,\n",
       "         <div class=\"item-action\"><ul class=\"price\"><li class=\"price-was\"></li><li class=\"price-map\"> </li><li class=\"price-current\"><span class=\"price-current-label\"></span>$<strong>599</strong><sup>.99</sup> <a class=\"price-current-num\" href=\"https://www.newegg.com/steel-gray-acer-aspire-5-a515-57-731e-home-personal/p/N82E16834360185?Item=N82E16834360185&amp;buyingoptions=New\">(2 Offers)</a><span class=\"price-current-range\"><abbr title=\"to\">–</abbr></span></li><li class=\"price-save\"></li><li class=\"price-ship\">Free Shipping</li></ul><div class=\"item-operate\"><div class=\"item-button-area\"><button class=\"btn btn-mini\" title=\"View Details \">View Details <i class=\"fas fa-caret-right\"></i></button></div><div class=\"item-compare-box\"><label class=\"form-checkbox\"><input autocomplete=\"off\" type=\"checkbox\"/><span class=\"form-checkbox-title\">Compare</span></label></div></div></div>,\n",
       "         <div class=\"item-stock\" id=\"stock_34-360-185\"></div>]],\n",
       "\n",
       "       [[<a class=\"item-img\" href=\"https://www.newegg.com/carbon-gray-msi-prestige-14evo-a12m-231-work-business/p/N82E16834156264\"><img alt='MSI Laptop Intel Core i7 12th Gen 1280P (1.80GHz) 16GB Memory 1TB NVMe SSD Intel Iris Xe Graphics 14.0\" Windows 11 Home 64-bit Prestige 14Evo A12M-231' src=\"https://c1.neweggimages.com/ProductImageCompressAll300/34-156-264-V11.jpg\" title='MSI Laptop Intel Core i7 12th Gen 1280P (1.80GHz) 16GB Memory 1TB NVMe SSD Intel Iris Xe Graphics 14.0\" Windows 11 Home 64-bit Prestige 14Evo A12M-231'/><div class=\"btn btn-large btn-quickview\">Quick View</div></a>,\n",
       "         <div class=\"item-info\"><div class=\"item-branding\"><a class=\"item-brand\" href=\"https://www.newegg.com/MSI/BrandStore/ID-1312\"><img alt=\"MSI\" src=\"https://c1.neweggimages.com/Brandimage_70x28/Brand1312.gif\" title=\"MSI\"/></a><a class=\"item-rating\" href=\"https://www.newegg.com/carbon-gray-msi-prestige-14evo-a12m-231-work-business/p/N82E16834156264?IsFeedbackTab=true#scrollFullInfo\" title=\"Rating + 5\"><i aria-label=\"rated 5 out of 5\" class=\"rating rating-5\"></i><span class=\"item-rating-num\">(3)</span></a></div><a class=\"item-title\" href=\"https://www.newegg.com/carbon-gray-msi-prestige-14evo-a12m-231-work-business/p/N82E16834156264\" title=\"View Details\">MSI Laptop Intel Core i7 12th Gen 1280P (1.80GHz) 16GB Memory 1TB NVMe SSD Intel Iris Xe Graphics 14.0\" Windows 11 Home 64-bit Prestige 14Evo A12M-231</a><ul class=\"form-cells\"><li class=\"form-cell\"><div class=\"form-option-item is-color is-selected\"><span style=\"background-color:#808080\" title=\"Carbon Gray\"></span></div></li><li class=\"form-cell\"><div class=\"form-option-item is-color\"><span style=\"background-color:#A9C6D0\" title=\"Bluestone\"></span></div></li></ul><ul class=\"item-features\"><li><strong>Type:</strong> Work / Business</li><li><strong>Resolution:</strong> 1920 x 1080</li><li><strong>Weight:</strong> 3.60 lbs.</li><li><strong>Graphics Card:</strong> Intel Iris Xe Graphics</li><li><strong>Model #: </strong>Prestige14EvoA12M231</li><li><strong>Item #: </strong>N82E16834156264</li><li><strong>Return Policy: </strong><a href=\"https://kb.newegg.com/Article/Index/12/3?id=1167#53\" target=\"_blank\" title=\"Extended Holiday Return Policy(New Window)\">Extended Holiday Return Policy</a></li></ul></div>,\n",
       "         <div class=\"item-action\"><ul class=\"price\"><li class=\"price-was\"><span class=\"price-was-data\">$1,169.00</span></li><li class=\"price-map\"> </li><li class=\"price-current\"><span class=\"price-current-label\"></span>$<strong>649</strong><sup>.00</sup> <a class=\"price-current-num\" href=\"https://www.newegg.com/carbon-gray-msi-prestige-14evo-a12m-231-work-business/p/N82E16834156264?Item=N82E16834156264&amp;buyingoptions=New\">(2 Offers)</a><span class=\"price-current-range\"><abbr title=\"to\">–</abbr></span></li><li class=\"price-save\"><span class=\"price-save-label\">Save: </span><span class=\"price-save-percent\">44%</span></li><li class=\"price-ship\">Free Shipping</li></ul><div class=\"item-operate\"><div class=\"item-button-area\"><button class=\"btn btn-mini\" title=\"View Details \">View Details <i class=\"fas fa-caret-right\"></i></button></div><div class=\"item-compare-box\"><label class=\"form-checkbox\"><input autocomplete=\"off\" type=\"checkbox\"/><span class=\"form-checkbox-title\">Compare</span></label></div></div></div>,\n",
       "         <div class=\"item-stock\" id=\"stock_34-156-264\"></div>]],\n",
       "\n",
       "       [[<a class=\"item-img\" href=\"https://www.newegg.com/p/2WC-000J-016G4\"><img alt='Lenovo IdeaPad Slim 7 Carbon 14\" 2.8K OLED Touchscreen Laptop AMD Ryzen 7-5800U 16GB RAM 512GB SSD Cloud Grey' src=\"https://c1.neweggimages.com/ProductImageCompressAll300/A24GS220209JFzUA.jpg\" title='Lenovo IdeaPad Slim 7 Carbon 14\" 2.8K OLED Touchscreen Laptop AMD Ryzen 7-5800U 16GB RAM 512GB SSD Cloud Grey'/><div class=\"btn btn-large btn-quickview\">Quick View</div></a>,\n",
       "         <div class=\"item-info\"><div class=\"item-msg is-best-price\"><div class=\"flags flags-right flags-red is-invert\"><a class=\"flags-body\" href=\"https://www.newegg.com/d/Lowest-Price-In-30-Days/Laptops-Notebooks/s/ID-32\" title=\"Laptops / Notebooks\">Lowest price</a></div>in <strong>30 days</strong></div><div class=\"item-branding\"><a class=\"item-brand\" href=\"https://www.newegg.com/Lenovo/BrandStore/ID-10418\"><img alt=\"Lenovo\" src=\"https://c1.neweggimages.com/Brandimage_70x28/Brand10418.gif\" title=\"Lenovo\"/></a><a class=\"item-rating\" href=\"https://www.newegg.com/p/2WC-000J-016G4?IsFeedbackTab=true#scrollFullInfo\" title=\"Rating + 4.3\"><i aria-label=\"rated 4.3 out of 5\" class=\"rating rating-4-5\"></i><span class=\"item-rating-num\">(4)</span></a></div><a class=\"item-title\" href=\"https://www.newegg.com/p/2WC-000J-016G4\" title=\"View Details\">Lenovo IdeaPad Slim 7 Carbon 14\" 2.8K OLED Touchscreen Laptop AMD Ryzen 7-5800U 16GB RAM 512GB SSD Cloud Grey</a><p class=\"item-promo\"><i class=\"item-promo-icon\"></i>Eligible for Black Friday Price Protection, See Details</p><ul class=\"item-features\"><li><strong>Type:</strong> Home / Personal</li><li><strong>Resolution:</strong> 2880 x 1800</li><li><strong>Bluetooth:</strong> Yes</li><li><strong>Webcam:</strong> Yes</li><li><strong>Model #: </strong>82L10001US</li><li><strong>Item #: </strong>2WC-000J-016G4</li><li><strong>Return Policy: </strong><a href=\"https://kb.newegg.com/Article/Index/12/3?id=1167#53\" target=\"_blank\" title=\"Extended Holiday Return Policy(New Window)\">Extended Holiday Return Policy</a></li></ul></div>,\n",
       "         <div class=\"item-action\"><ul class=\"price\"><li class=\"price-was\"><span class=\"price-was-data\">$849.99</span></li><li class=\"price-map\"> </li><li class=\"price-current\"><span class=\"price-current-label\"></span>$<strong>799</strong><sup>.99</sup> <span class=\"price-current-range\"><abbr title=\"to\">–</abbr></span></li><li class=\"price-save\"><span class=\"price-save-label\">Save: </span><span class=\"price-save-percent\">5%</span></li><li class=\"price-ship\">Free Shipping</li></ul><div class=\"item-operate\"><div class=\"item-button-area\"><button class=\"btn btn-primary btn-mini\" title='Add Lenovo IdeaPad Slim 7 Carbon 14\" 2.8K OLED Touchscreen Laptop AMD Ryzen 7-5800U 16GB RAM 512GB SSD Cloud Grey to cart'>Add to cart <i class=\"fas fa-caret-right\"></i></button></div><div class=\"item-compare-box\"><label class=\"form-checkbox\"><input autocomplete=\"off\" type=\"checkbox\"/><span class=\"form-checkbox-title\">Compare</span></label></div></div></div>,\n",
       "         <div class=\"item-stock\" id=\"stock_2WC-000J-016G4\"></div>]],\n",
       "\n",
       "       ...,\n",
       "\n",
       "       [[<a class=\"item-img\" href=\"https://www.newegg.com/comet-grey-asus-vivobook-pro-n7600pc-nb74-gaming/p/N82E16834236012\"><img alt='ASUS VivoBook Pro 16X OLED Laptop, 16\" WQUXGA 16:10 Display, Intel Core i7-11370H CPU, NVIDIA GeForce RTX 3050, 16GB RAM, 1TB SSD, Windows 11 Pro, DialPad, Comet Grey, N7600PC-NB74' src=\"https://c1.neweggimages.com/ProductImageCompressAll300/34-236-012-V14.jpg\" title='ASUS VivoBook Pro 16X OLED Laptop, 16\" WQUXGA 16:10 Display, Intel Core i7-11370H CPU, NVIDIA GeForce RTX 3050, 16GB RAM, 1TB SSD, Windows 11 Pro, DialPad, Comet Grey, N7600PC-NB74'/><div class=\"btn btn-large btn-quickview\">Quick View</div></a>,\n",
       "         <div class=\"item-info\"><div class=\"item-branding\"><a class=\"item-brand\" href=\"https://www.newegg.com/ASUS/BrandStore/ID-1315\"><img alt=\"ASUS\" src=\"https://c1.neweggimages.com/Brandimage_70x28/Brand1315.gif\" title=\"ASUS\"/></a><a class=\"item-rating\" href=\"https://www.newegg.com/comet-grey-asus-vivobook-pro-n7600pc-nb74-gaming/p/N82E16834236012?IsFeedbackTab=true#scrollFullInfo\" title=\"Rating + 4.8\"><i aria-label=\"rated 4.8 out of 5\" class=\"rating rating-5\"></i><span class=\"item-rating-num\">(13)</span></a></div><a class=\"item-title\" href=\"https://www.newegg.com/comet-grey-asus-vivobook-pro-n7600pc-nb74-gaming/p/N82E16834236012\" title=\"View Details\">ASUS VivoBook Pro 16X OLED Laptop, 16\" WQUXGA 16:10 Display, Intel Core i7-11370H CPU, NVIDIA GeForce RTX 3050, 16GB RAM, 1TB SSD, Windows 11 Pro, DialPad, Comet Grey, N7600PC-NB74</a><ul class=\"item-features\"><li><strong>Type:</strong> Gaming</li><li><strong>Resolution:</strong> 3840 x 2400</li><li><strong>Weight:</strong> 4.30 lbs.</li><li><strong>Graphics Card:</strong> NVIDIA GeForce RTX 3050 Laptop GPU</li><li><strong>Model #: </strong>N7600PC-NB74</li><li><strong>Item #: </strong>N82E16834236012</li><li><strong>Return Policy: </strong><a href=\"https://kb.newegg.com/Article/Index/12/3?id=1167#53\" target=\"_blank\" title=\"Extended Holiday Return Policy(New Window)\">Extended Holiday Return Policy</a></li></ul></div>,\n",
       "         <div class=\"item-action\"><ul class=\"price\"><li class=\"price-was\"><span class=\"price-was-data\">$1,399.99</span></li><li class=\"price-map\"> </li><li class=\"price-current\"><span class=\"price-current-label\"></span>$<strong>1,099</strong><sup>.99</sup> <a class=\"price-current-num\" href=\"https://www.newegg.com/comet-grey-asus-vivobook-pro-n7600pc-nb74-gaming/p/N82E16834236012?Item=N82E16834236012&amp;buyingoptions=New\">(2 Offers)</a><span class=\"price-current-range\"><abbr title=\"to\">–</abbr></span></li><li class=\"price-save\"><span class=\"price-save-label\">Save: </span><span class=\"price-save-percent\">21%</span></li><li class=\"price-ship\">Free Shipping</li></ul><div class=\"item-operate\"><div class=\"item-button-area\"><button class=\"btn btn-mini\" title=\"View Details \">View Details <i class=\"fas fa-caret-right\"></i></button></div><div class=\"item-compare-box\"><label class=\"form-checkbox\"><input autocomplete=\"off\" type=\"checkbox\"/><span class=\"form-checkbox-title\">Compare</span></label></div></div></div>,\n",
       "         <div class=\"item-stock\" id=\"stock_34-236-012\"></div>]],\n",
       "\n",
       "       [[<a class=\"item-img\" href=\"https://www.newegg.com/p/1TS-000D-0X0D9\"><img alt='New HP 17t Laptop, 17.3\" HD+ Touch Screen Intel core i7-1165G7 Intel Iris XE 32GB DDR4 RAM 2TB PCIe SSD Backlit Keyboard Windows 11 Home Silver' src=\"https://c1.neweggimages.com/ProductImageCompressAll300/B295D22031117R1T053.jpg\" title='New HP 17t Laptop, 17.3\" HD+ Touch Screen Intel core i7-1165G7 Intel Iris XE 32GB DDR4 RAM 2TB PCIe SSD Backlit Keyboard Windows 11 Home Silver'/><div class=\"btn btn-large btn-quickview\">Quick View</div></a>,\n",
       "         <div class=\"item-info\"><div class=\"item-branding\"><a class=\"item-brand\" href=\"https://www.newegg.com/HP/BrandStore/ID-1186\"><img alt=\"HP\" src=\"https://c1.neweggimages.com/Brandimage_70x28/Brand1186.gif\" title=\"HP\"/></a></div><a class=\"item-title\" href=\"https://www.newegg.com/p/1TS-000D-0X0D9\" title=\"View Details\">New HP 17t Laptop, 17.3\" HD+ Touch Screen Intel core i7-1165G7 Intel Iris XE 32GB DDR4 RAM 2TB PCIe SSD Backlit Keyboard Windows 11 Home Silver</a><ul class=\"item-features\"><li><strong>Type:</strong> Work / Business</li><li><strong>Color:</strong> Silver</li><li><strong>Model #: </strong>B2C_17-cn0065cl_32_2SD_Home_Rev1</li><li><strong>Return Policy: </strong><a href=\"https://www.newegg.com/Seller-Store/XM-Electronics?initialTab=returnPolicy\" target=\"_blank\" title=\"View Return Policy(new window)\">View Return Policy</a></li></ul></div>,\n",
       "         <div class=\"item-action\"><ul class=\"price\"><li class=\"price-was\"></li><li class=\"price-map\"> </li><li class=\"price-current\"><span class=\"price-current-label\"></span>$<strong>1,224</strong><sup>.00</sup> <a class=\"price-current-num\" href=\"https://www.newegg.com/p/1TS-000D-0X0D9?Item=9SIB295HNV6639&amp;buyingoptions=New\">(10 Offers)</a><span class=\"price-current-range\"><abbr title=\"to\">–</abbr></span></li><li class=\"price-save\"></li><li class=\"price-ship\">Free Shipping</li></ul><div class=\"item-operate\"><div class=\"item-button-area\"><button class=\"btn btn-mini\" title=\"View Details \">View Details <i class=\"fas fa-caret-right\"></i></button></div><div class=\"item-compare-box\"><label class=\"form-checkbox\"><input autocomplete=\"off\" type=\"checkbox\"/><span class=\"form-checkbox-title\">Compare</span></label></div></div></div>,\n",
       "         <div class=\"item-stock\" id=\"stock_9SIB295HNV6639\"></div>]],\n",
       "\n",
       "       [[<a class=\"item-img\" href=\"https://www.newegg.com/top-cover-keyboard-deck-natural-silver-aluminum-with-a-sandblasted-finish-hp-pavilion-15-eh1010nr/p/N82E16834273079\"><img alt='HP Laptop Pavilion AMD Ryzen 5 5000 Series 5500U (2.10GHz) 8GB Memory 512 GB PCIe SSD AMD Radeon Graphics 15.6\" Touchscreen Windows 10 Home 64-bit 15-eh1010nr' src=\"https://c1.neweggimages.com/ProductImageCompressAll300/34-273-079-V05.jpg\" title='HP Laptop Pavilion AMD Ryzen 5 5000 Series 5500U (2.10GHz) 8GB Memory 512 GB PCIe SSD AMD Radeon Graphics 15.6\" Touchscreen Windows 10 Home 64-bit 15-eh1010nr'/><div class=\"btn btn-large btn-quickview\">Quick View</div></a>,\n",
       "         <div class=\"item-info\"><div class=\"item-branding\"><a class=\"item-brand\" href=\"https://www.newegg.com/HP/BrandStore/ID-1186\"><img alt=\"HP\" src=\"https://c1.neweggimages.com/Brandimage_70x28/Brand1186.gif\" title=\"HP\"/></a><a class=\"item-rating\" href=\"https://www.newegg.com/top-cover-keyboard-deck-natural-silver-aluminum-with-a-sandblasted-finish-hp-pavilion-15-eh1010nr/p/N82E16834273079?IsFeedbackTab=true#scrollFullInfo\" title=\"Rating + 4.5\"><i aria-label=\"rated 4.5 out of 5\" class=\"rating rating-4-5\"></i><span class=\"item-rating-num\">(2)</span></a></div><a class=\"item-title\" href=\"https://www.newegg.com/top-cover-keyboard-deck-natural-silver-aluminum-with-a-sandblasted-finish-hp-pavilion-15-eh1010nr/p/N82E16834273079\" title=\"View Details\">HP Laptop Pavilion AMD Ryzen 5 5000 Series 5500U (2.10GHz) 8GB Memory 512 GB PCIe SSD AMD Radeon Graphics 15.6\" Touchscreen Windows 10 Home 64-bit 15-eh1010nr</a><ul class=\"item-features\"><li><strong>Type:</strong> Education / Home / Personal</li><li><strong>Resolution:</strong> 1366 x 768</li><li><strong>Weight:</strong> 3.86 lbs.</li><li><strong>Graphics Card:</strong> AMD Radeon Graphics</li><li><strong>Model #: </strong>15-eh1010nr</li><li><strong>Item #: </strong>N82E16834273079</li><li><strong>Return Policy: </strong><a href=\"https://kb.newegg.com/Article/Index/12/3?id=1167#53\" target=\"_blank\" title=\"Extended Holiday Return Policy(New Window)\">Extended Holiday Return Policy</a></li></ul></div>,\n",
       "         <div class=\"item-action\"><ul class=\"price\"><li class=\"price-was\"><span class=\"price-was-data\">$759.99</span></li><li class=\"price-map\"> </li><li class=\"price-current\"><span class=\"price-current-label\"></span>$<strong>739</strong><sup>.99</sup> <span class=\"price-current-range\"><abbr title=\"to\">–</abbr></span></li><li class=\"price-save\"></li><li class=\"price-ship\">Free Shipping</li></ul><div class=\"item-operate\"><div class=\"item-button-area\"><button class=\"btn btn-primary btn-mini\" title='Add HP Laptop Pavilion AMD Ryzen 5 5000 Series 5500U (2.10GHz) 8GB Memory 512 GB PCIe SSD AMD Radeon Graphics 15.6\" Touchscreen Windows 10 Home 64-bit 15-eh1010nr to cart'>Add to cart <i class=\"fas fa-caret-right\"></i></button></div><div class=\"item-compare-box\"><label class=\"form-checkbox\"><input autocomplete=\"off\" type=\"checkbox\"/><span class=\"form-checkbox-title\">Compare</span></label></div></div></div>,\n",
       "         <div class=\"item-stock\" id=\"stock_34-273-079\"></div>]]],\n",
       "      dtype=object)"
      ]
     },
     "execution_count": 17,
     "metadata": {},
     "output_type": "execute_result"
    }
   ],
   "source": [
    "arr1"
   ]
  },
  {
   "cell_type": "code",
   "execution_count": null,
   "id": "a3a67a70",
   "metadata": {},
   "outputs": [],
   "source": []
  }
 ],
 "metadata": {
  "kernelspec": {
   "display_name": "Python 3 (ipykernel)",
   "language": "python",
   "name": "python3"
  },
  "language_info": {
   "codemirror_mode": {
    "name": "ipython",
    "version": 3
   },
   "file_extension": ".py",
   "mimetype": "text/x-python",
   "name": "python",
   "nbconvert_exporter": "python",
   "pygments_lexer": "ipython3",
   "version": "3.10.6"
  }
 },
 "nbformat": 4,
 "nbformat_minor": 5
}
